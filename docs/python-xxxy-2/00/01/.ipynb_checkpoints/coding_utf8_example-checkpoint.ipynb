{
 "cells": [
  {
   "cell_type": "code",
   "execution_count": null,
   "metadata": {
    "collapsed": true
   },
   "outputs": [],
   "source": [
    "# coding:utf-8\n",
    "\n",
    "'''\n",
    "Created on Dec 3, 2016\n",
    "\n",
    "@author: Bin Liang\n",
    "'''\n",
    "\n",
    "\n",
    "def run_main():\n",
    "    \"\"\"\n",
    "        main function\n",
    "    \"\"\"\n",
    "    chinese_str = 'Python数据分析'\n",
    "    print chinese_str\n",
    "    \n",
    "    other_str = 'naïve'\n",
    "    print other_str\n",
    "\n",
    "\n",
    "if __name__ == '__main__':\n",
    "    run_main()"
   ]
  }
 ],
 "metadata": {
  "kernelspec": {
   "display_name": "Python 2",
   "language": "python",
   "name": "python2"
  },
  "language_info": {
   "codemirror_mode": {
    "name": "ipython",
    "version": 2
   },
   "file_extension": ".py",
   "mimetype": "text/x-python",
   "name": "python",
   "nbconvert_exporter": "python",
   "pygments_lexer": "ipython2",
   "version": "2.7.13"
  }
 },
 "nbformat": 4,
 "nbformat_minor": 2
}
